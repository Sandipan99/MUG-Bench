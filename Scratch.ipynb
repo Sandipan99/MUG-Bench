{
 "cells": [
  {
   "cell_type": "code",
   "execution_count": 1,
   "id": "5a941700-f6a3-48d4-b004-334c58087d9d",
   "metadata": {},
   "outputs": [],
   "source": [
    "import json"
   ]
  },
  {
   "cell_type": "code",
   "execution_count": 3,
   "id": "f46b06b2-f6ef-4c3c-8b24-d1bc2a1cc6e4",
   "metadata": {},
   "outputs": [],
   "source": [
    "fname = 'dataset/Pokemon-primary_type/info.json'\n",
    "with open(fname) as fopen:\n",
    "        info_dict = json.load(fopen)"
   ]
  },
  {
   "cell_type": "code",
   "execution_count": null,
   "id": "71cffafb-bf4d-46ff-8bb3-1aa00d0a8cb0",
   "metadata": {},
   "outputs": [],
   "source": []
  }
 ],
 "metadata": {
  "kernelspec": {
   "display_name": "Python 3 (ipykernel)",
   "language": "python",
   "name": "python3"
  },
  "language_info": {
   "codemirror_mode": {
    "name": "ipython",
    "version": 3
   },
   "file_extension": ".py",
   "mimetype": "text/x-python",
   "name": "python",
   "nbconvert_exporter": "python",
   "pygments_lexer": "ipython3",
   "version": "3.9.12"
  }
 },
 "nbformat": 4,
 "nbformat_minor": 5
}
