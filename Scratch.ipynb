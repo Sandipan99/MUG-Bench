{
 "cells": [
  {
   "cell_type": "code",
   "execution_count": 1,
   "id": "5a941700-f6a3-48d4-b004-334c58087d9d",
   "metadata": {},
   "outputs": [],
   "source": [
    "import json"
   ]
  },
  {
   "cell_type": "code",
   "execution_count": 3,
   "id": "f46b06b2-f6ef-4c3c-8b24-d1bc2a1cc6e4",
   "metadata": {},
   "outputs": [],
   "source": [
    "fname = 'dataset/Pokemon-primary_type/info.json'\n",
    "with open(fname) as fopen:\n",
    "        info_dict = json.load(fopen)"
   ]
  },
  {
   "cell_type": "code",
   "execution_count": 4,
   "id": "71cffafb-bf4d-46ff-8bb3-1aa00d0a8cb0",
   "metadata": {},
   "outputs": [],
   "source": [
    "col_label = info_dict['label']\n",
    "eval_metric = info_dict['eval_metric']"
   ]
  },
  {
   "cell_type": "code",
   "execution_count": 13,
   "id": "402a846f-5e99-4588-8e2e-a7ce25d5b412",
   "metadata": {},
   "outputs": [],
   "source": [
    "from baselines.utils import prepare_ag_dataset"
   ]
  },
  {
   "cell_type": "code",
   "execution_count": 14,
   "id": "9c840b2f-7dd0-433a-b7ec-934ba9cbd139",
   "metadata": {},
   "outputs": [],
   "source": [
    "train_df, dev_df, test_df, feature_metadata = prepare_ag_dataset('dataset/Pokemon-primary_type/')"
   ]
  },
  {
   "cell_type": "code",
   "execution_count": 16,
   "id": "311d7239-2db4-42bf-811d-208321db6f92",
   "metadata": {},
   "outputs": [
    {
     "data": {
      "text/html": [
       "<div>\n",
       "<style scoped>\n",
       "    .dataframe tbody tr th:only-of-type {\n",
       "        vertical-align: middle;\n",
       "    }\n",
       "\n",
       "    .dataframe tbody tr th {\n",
       "        vertical-align: top;\n",
       "    }\n",
       "\n",
       "    .dataframe thead th {\n",
       "        text-align: right;\n",
       "    }\n",
       "</style>\n",
       "<table border=\"1\" class=\"dataframe\">\n",
       "  <thead>\n",
       "    <tr style=\"text-align: right;\">\n",
       "      <th></th>\n",
       "      <th>name</th>\n",
       "      <th>generation</th>\n",
       "      <th>status</th>\n",
       "      <th>species</th>\n",
       "      <th>type_1</th>\n",
       "      <th>height_m</th>\n",
       "      <th>weight_kg</th>\n",
       "      <th>abilities_number</th>\n",
       "      <th>ability_1</th>\n",
       "      <th>ability_2</th>\n",
       "      <th>...</th>\n",
       "      <th>defense</th>\n",
       "      <th>sp_attack</th>\n",
       "      <th>sp_defense</th>\n",
       "      <th>speed</th>\n",
       "      <th>catch_rate</th>\n",
       "      <th>base_friendship</th>\n",
       "      <th>base_experience</th>\n",
       "      <th>growth_rate</th>\n",
       "      <th>percentage_male</th>\n",
       "      <th>Image Path</th>\n",
       "    </tr>\n",
       "  </thead>\n",
       "  <tbody>\n",
       "    <tr>\n",
       "      <th>0</th>\n",
       "      <td>Shaymin</td>\n",
       "      <td>4</td>\n",
       "      <td>Mythical</td>\n",
       "      <td>Gratitude Pokémon</td>\n",
       "      <td>Grass</td>\n",
       "      <td>0.2</td>\n",
       "      <td>2.1</td>\n",
       "      <td>1</td>\n",
       "      <td>Natural Cure</td>\n",
       "      <td>No</td>\n",
       "      <td>...</td>\n",
       "      <td>100</td>\n",
       "      <td>100</td>\n",
       "      <td>100</td>\n",
       "      <td>100</td>\n",
       "      <td>45</td>\n",
       "      <td>100.0</td>\n",
       "      <td>270.0</td>\n",
       "      <td>Medium Slow</td>\n",
       "      <td>-100.0</td>\n",
       "      <td>dataset/Pokemon-primary_type/train_images/shay...</td>\n",
       "    </tr>\n",
       "    <tr>\n",
       "      <th>1</th>\n",
       "      <td>Venusaur</td>\n",
       "      <td>1</td>\n",
       "      <td>Normal</td>\n",
       "      <td>Seed Pokémon</td>\n",
       "      <td>Grass</td>\n",
       "      <td>2.0</td>\n",
       "      <td>100.0</td>\n",
       "      <td>2</td>\n",
       "      <td>Overgrow</td>\n",
       "      <td>No</td>\n",
       "      <td>...</td>\n",
       "      <td>83</td>\n",
       "      <td>100</td>\n",
       "      <td>100</td>\n",
       "      <td>80</td>\n",
       "      <td>45</td>\n",
       "      <td>70.0</td>\n",
       "      <td>236.0</td>\n",
       "      <td>Medium Slow</td>\n",
       "      <td>87.5</td>\n",
       "      <td>dataset/Pokemon-primary_type/train_images/venu...</td>\n",
       "    </tr>\n",
       "    <tr>\n",
       "      <th>2</th>\n",
       "      <td>Roserade</td>\n",
       "      <td>4</td>\n",
       "      <td>Normal</td>\n",
       "      <td>Bouquet Pokémon</td>\n",
       "      <td>Grass</td>\n",
       "      <td>0.9</td>\n",
       "      <td>14.5</td>\n",
       "      <td>3</td>\n",
       "      <td>Natural Cure</td>\n",
       "      <td>Poison Point</td>\n",
       "      <td>...</td>\n",
       "      <td>65</td>\n",
       "      <td>125</td>\n",
       "      <td>105</td>\n",
       "      <td>90</td>\n",
       "      <td>75</td>\n",
       "      <td>70.0</td>\n",
       "      <td>232.0</td>\n",
       "      <td>Medium Slow</td>\n",
       "      <td>50.0</td>\n",
       "      <td>dataset/Pokemon-primary_type/train_images/rose...</td>\n",
       "    </tr>\n",
       "    <tr>\n",
       "      <th>3</th>\n",
       "      <td>Victreebel</td>\n",
       "      <td>1</td>\n",
       "      <td>Normal</td>\n",
       "      <td>Flycatcher Pokémon</td>\n",
       "      <td>Grass</td>\n",
       "      <td>1.7</td>\n",
       "      <td>15.5</td>\n",
       "      <td>2</td>\n",
       "      <td>Chlorophyll</td>\n",
       "      <td>No</td>\n",
       "      <td>...</td>\n",
       "      <td>65</td>\n",
       "      <td>100</td>\n",
       "      <td>70</td>\n",
       "      <td>70</td>\n",
       "      <td>45</td>\n",
       "      <td>70.0</td>\n",
       "      <td>221.0</td>\n",
       "      <td>Medium Slow</td>\n",
       "      <td>50.0</td>\n",
       "      <td>dataset/Pokemon-primary_type/train_images/vict...</td>\n",
       "    </tr>\n",
       "    <tr>\n",
       "      <th>4</th>\n",
       "      <td>Abomasnow</td>\n",
       "      <td>4</td>\n",
       "      <td>Normal</td>\n",
       "      <td>Frost Tree Pokémon</td>\n",
       "      <td>Grass</td>\n",
       "      <td>2.2</td>\n",
       "      <td>135.5</td>\n",
       "      <td>2</td>\n",
       "      <td>Snow Warning</td>\n",
       "      <td>No</td>\n",
       "      <td>...</td>\n",
       "      <td>75</td>\n",
       "      <td>92</td>\n",
       "      <td>85</td>\n",
       "      <td>60</td>\n",
       "      <td>60</td>\n",
       "      <td>70.0</td>\n",
       "      <td>173.0</td>\n",
       "      <td>Slow</td>\n",
       "      <td>50.0</td>\n",
       "      <td>dataset/Pokemon-primary_type/train_images/abom...</td>\n",
       "    </tr>\n",
       "  </tbody>\n",
       "</table>\n",
       "<p>5 rows × 24 columns</p>\n",
       "</div>"
      ],
      "text/plain": [
       "         name  generation    status             species type_1  height_m  \\\n",
       "0     Shaymin           4  Mythical   Gratitude Pokémon  Grass       0.2   \n",
       "1    Venusaur           1    Normal        Seed Pokémon  Grass       2.0   \n",
       "2    Roserade           4    Normal     Bouquet Pokémon  Grass       0.9   \n",
       "3  Victreebel           1    Normal  Flycatcher Pokémon  Grass       1.7   \n",
       "4   Abomasnow           4    Normal  Frost Tree Pokémon  Grass       2.2   \n",
       "\n",
       "   weight_kg  abilities_number     ability_1     ability_2  ... defense  \\\n",
       "0        2.1                 1  Natural Cure            No  ...     100   \n",
       "1      100.0                 2      Overgrow            No  ...      83   \n",
       "2       14.5                 3  Natural Cure  Poison Point  ...      65   \n",
       "3       15.5                 2   Chlorophyll            No  ...      65   \n",
       "4      135.5                 2  Snow Warning            No  ...      75   \n",
       "\n",
       "   sp_attack  sp_defense  speed  catch_rate  base_friendship  base_experience  \\\n",
       "0        100         100    100          45            100.0            270.0   \n",
       "1        100         100     80          45             70.0            236.0   \n",
       "2        125         105     90          75             70.0            232.0   \n",
       "3        100          70     70          45             70.0            221.0   \n",
       "4         92          85     60          60             70.0            173.0   \n",
       "\n",
       "   growth_rate  percentage_male  \\\n",
       "0  Medium Slow           -100.0   \n",
       "1  Medium Slow             87.5   \n",
       "2  Medium Slow             50.0   \n",
       "3  Medium Slow             50.0   \n",
       "4         Slow             50.0   \n",
       "\n",
       "                                          Image Path  \n",
       "0  dataset/Pokemon-primary_type/train_images/shay...  \n",
       "1  dataset/Pokemon-primary_type/train_images/venu...  \n",
       "2  dataset/Pokemon-primary_type/train_images/rose...  \n",
       "3  dataset/Pokemon-primary_type/train_images/vict...  \n",
       "4  dataset/Pokemon-primary_type/train_images/abom...  \n",
       "\n",
       "[5 rows x 24 columns]"
      ]
     },
     "execution_count": 16,
     "metadata": {},
     "output_type": "execute_result"
    }
   ],
   "source": [
    "train_df.head()"
   ]
  },
  {
   "cell_type": "code",
   "execution_count": 17,
   "id": "bda92960-0962-43d3-b32f-2c59763a092f",
   "metadata": {},
   "outputs": [],
   "source": [
    "from autogluon.multimodal.data.infer_types import infer_column_types"
   ]
  },
  {
   "cell_type": "code",
   "execution_count": 18,
   "id": "829e0596-49ef-4934-bfb3-09ef761fc97b",
   "metadata": {},
   "outputs": [],
   "source": [
    " column_types = infer_column_types(\n",
    "            data=train_df.drop(columns=col_label),\n",
    "            valid_data=dev_df.drop(columns=col_label),\n",
    "        )"
   ]
  },
  {
   "cell_type": "code",
   "execution_count": 19,
   "id": "0bd106a7-50af-4140-aa53-b08c9530cc32",
   "metadata": {},
   "outputs": [
    {
     "name": "stdout",
     "output_type": "stream",
     "text": [
      "[INFO] column_types=OrderedDict([('name', 'categorical'), ('generation', 'categorical'), ('status', 'categorical'), ('species', 'categorical'), ('height_m', 'numerical'), ('weight_kg', 'numerical'), ('abilities_number', 'categorical'), ('ability_1', 'categorical'), ('ability_2', 'categorical'), ('ability_hidden', 'categorical'), ('total_points', 'numerical'), ('hp', 'numerical'), ('attack', 'numerical'), ('defense', 'numerical'), ('sp_attack', 'numerical'), ('sp_defense', 'numerical'), ('speed', 'numerical'), ('catch_rate', 'numerical'), ('base_friendship', 'numerical'), ('base_experience', 'numerical'), ('growth_rate', 'categorical'), ('percentage_male', 'categorical'), ('Image Path', 'categorical')]) by infer_column_types()\n",
      "[INFO] Text raw input collected from columns: ['name', 'generation', 'status', 'species', 'abilities_number', 'ability_1', 'ability_2', 'ability_hidden', 'growth_rate', 'percentage_male', 'Image Path']\n"
     ]
    }
   ],
   "source": [
    "print(f'[INFO] column_types={column_types} by infer_column_types()')\n",
    "text_cols = [_[0] for _ in column_types.items() if _[1] in ['text', 'categorical']]\n",
    "print(f'[INFO] Text raw input collected from columns: {text_cols}')"
   ]
  },
  {
   "cell_type": "code",
   "execution_count": 27,
   "id": "7a804465-2b07-445e-8e4f-5603b2369338",
   "metadata": {},
   "outputs": [],
   "source": [
    "from autogluon.tabular import TabularDataset, FeatureMetadata\n",
    "from typing import Tuple, Dict, Any\n",
    "import pandas as pd\n",
    "import numpy as np"
   ]
  },
  {
   "cell_type": "code",
   "execution_count": 28,
   "id": "fd70a236-41a5-4cd5-8ee9-1012f1bd809a",
   "metadata": {},
   "outputs": [],
   "source": [
    "def merge_train_dev_test_dfs(\n",
    "        train_df: TabularDataset, \n",
    "        dev_df: TabularDataset, \n",
    "        test_df: TabularDataset,\n",
    "        col_label: str\n",
    "        ) -> Tuple[pd.DataFrame, pd.Series, Tuple[np.ndarray, np.ndarray, np.ndarray]]:\n",
    "    all_data = pd.concat([train_df, dev_df, test_df])\n",
    "    train_mask = np.zeros((all_data.shape[0]), dtype=bool)\n",
    "    train_mask[:train_df.shape[0]] = 1\n",
    "    assert train_mask.sum() == train_df.shape[0]\n",
    "    dev_mask = np.zeros((all_data.shape[0]), dtype=bool)\n",
    "    dev_mask[train_df.shape[0]:train_df.shape[0]+dev_df.shape[0]] = 1\n",
    "    assert dev_mask.sum() == dev_df.shape[0]\n",
    "    test_mask = np.zeros((all_data.shape[0]), dtype=bool)\n",
    "    test_mask[train_df.shape[0]+dev_df.shape[0]:] = 1\n",
    "    assert test_mask.sum() == test_df.shape[0]\n",
    "    all_data, all_label = all_data.drop(columns=col_label), all_data[col_label]\n",
    "    return all_data, all_label, (train_mask, dev_mask, test_mask)"
   ]
  },
  {
   "cell_type": "code",
   "execution_count": 29,
   "id": "429925cd-112e-47a0-8f5f-4d371ed117e5",
   "metadata": {},
   "outputs": [],
   "source": [
    "all_data, all_label, masks_tuple = merge_train_dev_test_dfs(train_df, dev_df, test_df, col_label)"
   ]
  },
  {
   "cell_type": "code",
   "execution_count": 31,
   "id": "17a05e59-7b69-404d-b346-113d9c908c3b",
   "metadata": {},
   "outputs": [],
   "source": [
    "def pack_cate_text_cols_to_one_sent(elem: Dict[str, Any]) -> str:\n",
    "    sentence = ''\n",
    "    for k, v in elem.items():\n",
    "        sentence = f'{sentence}{k}: {v}. '\n",
    "    return sentence"
   ]
  },
  {
   "cell_type": "code",
   "execution_count": 32,
   "id": "6a9c2dd5-d625-4e67-9753-e45b70000c76",
   "metadata": {},
   "outputs": [],
   "source": [
    "text_cols_raw = all_data[text_cols].to_dict('records')\n",
    "text_cols_raw = [pack_cate_text_cols_to_one_sent(_) for _ in text_cols_raw]"
   ]
  },
  {
   "cell_type": "code",
   "execution_count": 34,
   "id": "b0a09662-345c-4d93-8221-093fb6192232",
   "metadata": {},
   "outputs": [],
   "source": [
    "from baselines.utils import IMG_COL"
   ]
  },
  {
   "cell_type": "code",
   "execution_count": 35,
   "id": "9beed682-0c07-483b-9f45-b88088b8a174",
   "metadata": {},
   "outputs": [],
   "source": [
    "img_paths = all_data[IMG_COL].tolist()"
   ]
  },
  {
   "cell_type": "code",
   "execution_count": 37,
   "id": "4be93b05-f99b-4225-bc86-1bd9b30e6c56",
   "metadata": {},
   "outputs": [
    {
     "data": {
      "text/plain": [
       "897"
      ]
     },
     "execution_count": 37,
     "metadata": {},
     "output_type": "execute_result"
    }
   ],
   "source": [
    "len(img_paths)"
   ]
  },
  {
   "cell_type": "code",
   "execution_count": 38,
   "id": "df296522-1705-40a0-abba-d615f5b8d79c",
   "metadata": {},
   "outputs": [
    {
     "data": {
      "text/plain": [
       "897"
      ]
     },
     "execution_count": 38,
     "metadata": {},
     "output_type": "execute_result"
    }
   ],
   "source": [
    "len(text_cols_raw)"
   ]
  },
  {
   "cell_type": "code",
   "execution_count": 40,
   "id": "8bcc96bf-7158-4841-b5ba-d316ee9001cf",
   "metadata": {},
   "outputs": [],
   "source": [
    "from PIL import Image"
   ]
  },
  {
   "cell_type": "code",
   "execution_count": 41,
   "id": "5da2d1bf-f19c-49fe-877e-7d1b9daa5fb7",
   "metadata": {},
   "outputs": [],
   "source": [
    "from transformers import CLIPProcessor, CLIPModel"
   ]
  },
  {
   "cell_type": "code",
   "execution_count": 42,
   "id": "7feaa045-6470-453b-b1ab-d495b45fa403",
   "metadata": {},
   "outputs": [
    {
     "data": {
      "application/vnd.jupyter.widget-view+json": {
       "model_id": "a392eaafcff84e1f9e53031b340d96a2",
       "version_major": 2,
       "version_minor": 0
      },
      "text/plain": [
       "Downloading:   0%|          | 0.00/4.09k [00:00<?, ?B/s]"
      ]
     },
     "metadata": {},
     "output_type": "display_data"
    },
    {
     "data": {
      "application/vnd.jupyter.widget-view+json": {
       "model_id": "8481e829b70d442aa8c0ff1ea3a477d1",
       "version_major": 2,
       "version_minor": 0
      },
      "text/plain": [
       "Downloading:   0%|          | 0.00/577M [00:00<?, ?B/s]"
      ]
     },
     "metadata": {},
     "output_type": "display_data"
    },
    {
     "data": {
      "application/vnd.jupyter.widget-view+json": {
       "model_id": "270388a7b57b4a569fe3b4dde3ab03ae",
       "version_major": 2,
       "version_minor": 0
      },
      "text/plain": [
       "Downloading:   0%|          | 0.00/316 [00:00<?, ?B/s]"
      ]
     },
     "metadata": {},
     "output_type": "display_data"
    },
    {
     "data": {
      "application/vnd.jupyter.widget-view+json": {
       "model_id": "18d4993a7ca94a66bbda6a4cfa0eff54",
       "version_major": 2,
       "version_minor": 0
      },
      "text/plain": [
       "Downloading:   0%|          | 0.00/592 [00:00<?, ?B/s]"
      ]
     },
     "metadata": {},
     "output_type": "display_data"
    },
    {
     "data": {
      "application/vnd.jupyter.widget-view+json": {
       "model_id": "d1cd91b34d924769ba5f4d85960e3771",
       "version_major": 2,
       "version_minor": 0
      },
      "text/plain": [
       "Downloading:   0%|          | 0.00/842k [00:00<?, ?B/s]"
      ]
     },
     "metadata": {},
     "output_type": "display_data"
    },
    {
     "data": {
      "application/vnd.jupyter.widget-view+json": {
       "model_id": "133d1b3d42374801b3c7f15b0bc5339c",
       "version_major": 2,
       "version_minor": 0
      },
      "text/plain": [
       "Downloading:   0%|          | 0.00/512k [00:00<?, ?B/s]"
      ]
     },
     "metadata": {},
     "output_type": "display_data"
    },
    {
     "data": {
      "application/vnd.jupyter.widget-view+json": {
       "model_id": "9e8e8896c74f48e2b9c3dcdaba9d8ef9",
       "version_major": 2,
       "version_minor": 0
      },
      "text/plain": [
       "Downloading:   0%|          | 0.00/2.12M [00:00<?, ?B/s]"
      ]
     },
     "metadata": {},
     "output_type": "display_data"
    },
    {
     "data": {
      "application/vnd.jupyter.widget-view+json": {
       "model_id": "66a1979a97c749e89931c846b207c1bc",
       "version_major": 2,
       "version_minor": 0
      },
      "text/plain": [
       "Downloading:   0%|          | 0.00/389 [00:00<?, ?B/s]"
      ]
     },
     "metadata": {},
     "output_type": "display_data"
    }
   ],
   "source": [
    "model = CLIPModel.from_pretrained(\"openai/clip-vit-base-patch32\")\n",
    "processor = CLIPProcessor.from_pretrained(\"openai/clip-vit-base-patch32\")"
   ]
  },
  {
   "cell_type": "code",
   "execution_count": 44,
   "id": "2fb756b2-f8c9-4de2-8744-0a07082f080b",
   "metadata": {},
   "outputs": [],
   "source": [
    "image = Image.open(img_paths[0])"
   ]
  },
  {
   "cell_type": "code",
   "execution_count": 46,
   "id": "2c8da7e8-9afc-4f26-9060-4bb0904f8144",
   "metadata": {},
   "outputs": [
    {
     "data": {
      "text/plain": [
       "'name: Shaymin. generation: 4. status: Mythical. species: Gratitude Pokémon. abilities_number: 1. ability_1: Natural Cure. ability_2: No. ability_hidden: No. growth_rate: Medium Slow. percentage_male: -100.0. Image Path: dataset/Pokemon-primary_type/train_images/shaymin.jpeg. '"
      ]
     },
     "execution_count": 46,
     "metadata": {},
     "output_type": "execute_result"
    }
   ],
   "source": [
    "text_cols_raw[0]"
   ]
  },
  {
   "cell_type": "code",
   "execution_count": 88,
   "id": "6306632e-9226-4aac-b932-0f22ae0a13b2",
   "metadata": {},
   "outputs": [],
   "source": [
    "inputs = processor(text=text_cols_raw[0], images=image, return_tensors=\"pt\")"
   ]
  },
  {
   "cell_type": "code",
   "execution_count": 89,
   "id": "f145bfee-842d-4248-863b-793f56f503bb",
   "metadata": {},
   "outputs": [],
   "source": [
    "inputs['input_ids'] = inputs['input_ids'][:,:75]"
   ]
  },
  {
   "cell_type": "code",
   "execution_count": 90,
   "id": "a64e6743-113a-4dda-a517-f98fb1d0d6f4",
   "metadata": {},
   "outputs": [],
   "source": [
    "inputs['attention_mask'] = inputs['input_ids'][:,:75]"
   ]
  },
  {
   "cell_type": "code",
   "execution_count": 91,
   "id": "3d1615ea-05ac-4d27-9075-b2252834274d",
   "metadata": {},
   "outputs": [],
   "source": [
    "outputs = model(**inputs)"
   ]
  },
  {
   "cell_type": "code",
   "execution_count": 93,
   "id": "51a1cad2-ce57-478a-9101-2b0964101b53",
   "metadata": {},
   "outputs": [
    {
     "data": {
      "text/plain": [
       "torch.Size([1, 512])"
      ]
     },
     "execution_count": 93,
     "metadata": {},
     "output_type": "execute_result"
    }
   ],
   "source": [
    "outputs['text_embeds'].shape"
   ]
  },
  {
   "cell_type": "code",
   "execution_count": 94,
   "id": "12b79108-1cc4-44f3-a3a3-03260d9a4316",
   "metadata": {},
   "outputs": [
    {
     "data": {
      "text/plain": [
       "torch.Size([1, 512])"
      ]
     },
     "execution_count": 94,
     "metadata": {},
     "output_type": "execute_result"
    }
   ],
   "source": [
    "outputs['image_embeds'].shape"
   ]
  },
  {
   "cell_type": "code",
   "execution_count": 95,
   "id": "c4e222f2-b5d5-4451-8f08-e6216cf7edcc",
   "metadata": {},
   "outputs": [],
   "source": [
    "from sklearn import preprocessing"
   ]
  },
  {
   "cell_type": "code",
   "execution_count": 96,
   "id": "bbe4d432-7c59-4854-98ce-988b7e6e4c76",
   "metadata": {},
   "outputs": [],
   "source": [
    "le = preprocessing.LabelEncoder()\n",
    "le.fit(train_df[col_label])\n",
    "all_label = le.transform(all_label)"
   ]
  },
  {
   "cell_type": "code",
   "execution_count": 102,
   "id": "288edf1b-3747-4b7f-8d2d-00b5fca933e1",
   "metadata": {},
   "outputs": [],
   "source": [
    "text_features = []\n",
    "image_features = []\n",
    "\n",
    "for i in range(897):\n",
    "    image = Image.open(img_paths[i])\n",
    "    text = text_cols_raw[0]\n",
    "    inputs = processor(text=text, images=image, return_tensors=\"pt\", padding=True)\n",
    "    inputs['input_ids'] = inputs['input_ids'][:,:75]\n",
    "    inputs['attention_mask'] = inputs['attention_mask'][:,:75]\n",
    "    outputs = model(**inputs)\n",
    "    text_features.append(outputs['text_embeds'])\n",
    "    image_features.append(outputs['image_embeds'])"
   ]
  },
  {
   "cell_type": "code",
   "execution_count": 99,
   "id": "a75a5412-27a8-49e6-8d5f-1a88ad4179f4",
   "metadata": {},
   "outputs": [],
   "source": [
    "import torch"
   ]
  },
  {
   "cell_type": "code",
   "execution_count": 103,
   "id": "af5d1e70-5673-4f1d-9fd0-00af64a184b1",
   "metadata": {},
   "outputs": [],
   "source": [
    "text_features = torch.cat(text_features, dim=0)"
   ]
  },
  {
   "cell_type": "code",
   "execution_count": 104,
   "id": "98b1034c-2153-4680-833a-fb635529880a",
   "metadata": {},
   "outputs": [],
   "source": [
    "image_features = torch.cat(image_features, dim=0)"
   ]
  },
  {
   "cell_type": "code",
   "execution_count": 105,
   "id": "60108d51-2d67-488c-9a96-4465e6a8d739",
   "metadata": {},
   "outputs": [],
   "source": [
    "import pickle"
   ]
  },
  {
   "cell_type": "code",
   "execution_count": 106,
   "id": "e5f651db-1be6-4cfe-87dc-8a21bcf7afba",
   "metadata": {},
   "outputs": [],
   "source": [
    "with open('dataset/Pokemon-primary_type/text_features.pkl', 'wb') as fs:\n",
    "    pickle.dump(text_features, fs)"
   ]
  },
  {
   "cell_type": "code",
   "execution_count": 107,
   "id": "d03aac23-6b57-4181-8fd1-1598b6909122",
   "metadata": {},
   "outputs": [],
   "source": [
    "with open('dataset/Pokemon-primary_type/image_features.pkl', 'wb') as fs:\n",
    "    pickle.dump(image_features, fs)"
   ]
  },
  {
   "cell_type": "code",
   "execution_count": 109,
   "id": "bbccd8a0-4718-48b0-95bf-f1684e617e87",
   "metadata": {},
   "outputs": [],
   "source": [
    "# text_feats, image_feats, ti_labels, ti_masks_tuple\n",
    "# text_features, image_features, all_labels, masks_tuple"
   ]
  },
  {
   "cell_type": "code",
   "execution_count": null,
   "id": "f3933587-3248-4480-bf26-1f40c1a904da",
   "metadata": {},
   "outputs": [],
   "source": []
  }
 ],
 "metadata": {
  "kernelspec": {
   "display_name": "Python 3 (ipykernel)",
   "language": "python",
   "name": "python3"
  },
  "language_info": {
   "codemirror_mode": {
    "name": "ipython",
    "version": 3
   },
   "file_extension": ".py",
   "mimetype": "text/x-python",
   "name": "python",
   "nbconvert_exporter": "python",
   "pygments_lexer": "ipython3",
   "version": "3.9.12"
  }
 },
 "nbformat": 4,
 "nbformat_minor": 5
}
